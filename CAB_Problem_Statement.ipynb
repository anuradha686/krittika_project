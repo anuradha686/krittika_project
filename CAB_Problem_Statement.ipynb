{
  "cells": [
    {
      "cell_type": "markdown",
      "metadata": {
        "id": "6jprQ7IFBY9b"
      },
      "source": [
        "# **Question 1 : Visualizing Pleiades cluster**\n",
        "\n",
        "Our beloved astronomy club, Krittika, is named after one of the most conspicuous star cluster in the sky, Pleiades. The CSV file stardata.csv\n",
        "contains four columns of data, which contain the following data for 196 stars in the cluster:\n",
        "\n",
        "\n",
        "*   Column 1: RA of each star in degrees\n",
        "*   Column 2: Declination of each star in degrees\n",
        "*   Column 3: Parallax of each star in milliarcseconds (mas)\n",
        "*   Column 4: Apparent Magnitude of the star\n",
        "\n",
        "\n",
        "Parallax $p$ of a star is directly related to its distance $d$ as $d$ in parsecs $= \\frac{1}{p}$ where parallax is in arcseconds.\n",
        "\n",
        "Before proceeding, you need to be able to read the csv file contents, and since the assignment involves graphs, you might want to import some things as well:"
      ]
    },
    {
      "cell_type": "code",
      "execution_count": 2,
      "metadata": {
        "id": "wFuuIRbqCIRL"
      },
      "outputs": [],
      "source": [
        "# put your import statements here\n",
        "import pandas as pd\n",
        "import matplotlib.pyplot as plt\n",
        "import numpy as np\n",
        "\n",
        "# use one of the imported libraries to read the contents of csv file in a neat form\n"
      ]
    },
    {
      "cell_type": "markdown",
      "metadata": {
        "id": "tRub3yySCcbd"
      },
      "source": [
        "A little background on magnitude of a star:\n",
        "\n",
        "Magnitudes in Astronomy are a way to describe how bright an object (in our case, a star) is:\n",
        "\n",
        "**Apparent magnitude**: Apparent magnitude ($m$) is a measure of the brightness of a star or any other astronomical object observed from the earth. It is similar to the decibel system for sound in that magnitudes are logarithmic and can be calculated according to the formula\n",
        "$$m = -2.5 \\log  { \\left ( \\dfrac{F}{F_0} \\right )} $$\n",
        "where $F$ is the flux from the star (measured in $W/m^2$), and $F_0$ is a reference flux. \n",
        "\n",
        "We can calculate the flux of a star at some distance $d$ away as\n",
        "$$F = \\dfrac{L}{4 \\pi d^2}$$\n",
        "\n",
        "where $L$ is the Luminosity of the star (measured in W).\n",
        "\n",
        "**Absolute magnitude**: It is the magnitude of the star at a distance of 10 pc, and is related to the apparent magnitude by (and try to see if you can derive this):\n",
        "$$m-M = -5 + 5\\log_{10}(d)$$\n",
        "where $M$ is the absolute magnitude and $d$ is the distance of the star from us in parsecs (pc).\n",
        "To read up more about magnitudes, hit up this Wikipedia article - https://en.wikipedia.org/wiki/Magnitude_(astronomy%29.\n",
        "\n",
        "Using the above info and the earlier relation of distance and parallax, use the imported libraries to find the absolute magnitudes of all the stars of the csv file, and plot a histogram of the distribution, with 50 bins."
      ]
    },
    {
      "cell_type": "code",
      "execution_count": 3,
      "metadata": {
        "id": "kJpsPXK6sMZp"
      },
      "outputs": [
        {
          "data": {
            "text/html": [
              "<div>\n",
              "<style scoped>\n",
              "    .dataframe tbody tr th:only-of-type {\n",
              "        vertical-align: middle;\n",
              "    }\n",
              "\n",
              "    .dataframe tbody tr th {\n",
              "        vertical-align: top;\n",
              "    }\n",
              "\n",
              "    .dataframe thead th {\n",
              "        text-align: right;\n",
              "    }\n",
              "</style>\n",
              "<table border=\"1\" class=\"dataframe\">\n",
              "  <thead>\n",
              "    <tr style=\"text-align: right;\">\n",
              "      <th></th>\n",
              "      <th>ra</th>\n",
              "      <th>dec</th>\n",
              "      <th>parallax</th>\n",
              "      <th>ap_mag</th>\n",
              "    </tr>\n",
              "  </thead>\n",
              "  <tbody>\n",
              "    <tr>\n",
              "      <th>0</th>\n",
              "      <td>56.566774</td>\n",
              "      <td>24.189735</td>\n",
              "      <td>7.3935352662039655</td>\n",
              "      <td>8.208464</td>\n",
              "    </tr>\n",
              "    <tr>\n",
              "      <th>1</th>\n",
              "      <td>56.557355</td>\n",
              "      <td>24.196560</td>\n",
              "      <td>7.545834754428319</td>\n",
              "      <td>7.323018</td>\n",
              "    </tr>\n",
              "    <tr>\n",
              "      <th>2</th>\n",
              "      <td>56.613757</td>\n",
              "      <td>24.254807</td>\n",
              "      <td>7.21777120370273</td>\n",
              "      <td>7.339084</td>\n",
              "    </tr>\n",
              "    <tr>\n",
              "      <th>3</th>\n",
              "      <td>56.642808</td>\n",
              "      <td>24.138091</td>\n",
              "      <td>3.5113645931028596</td>\n",
              "      <td>11.468399</td>\n",
              "    </tr>\n",
              "    <tr>\n",
              "      <th>4</th>\n",
              "      <td>56.663986</td>\n",
              "      <td>24.103001</td>\n",
              "      <td>7.418396935580117</td>\n",
              "      <td>9.191837</td>\n",
              "    </tr>\n",
              "  </tbody>\n",
              "</table>\n",
              "</div>"
            ],
            "text/plain": [
              "          ra        dec            parallax     ap_mag\n",
              "0  56.566774  24.189735  7.3935352662039655   8.208464\n",
              "1  56.557355  24.196560   7.545834754428319   7.323018\n",
              "2  56.613757  24.254807    7.21777120370273   7.339084\n",
              "3  56.642808  24.138091  3.5113645931028596  11.468399\n",
              "4  56.663986  24.103001   7.418396935580117   9.191837"
            ]
          },
          "execution_count": 3,
          "metadata": {},
          "output_type": "execute_result"
        }
      ],
      "source": [
        "# Solution code\n",
        "stardata = pd.read_csv(\"stardata.csv\", header=None)\n",
        "stardata.columns = [\"ra\", \"dec\", \"parallax\", \"ap_mag\"]\n",
        "stardata.head()\n"
      ]
    },
    {
      "cell_type": "code",
      "execution_count": 4,
      "metadata": {},
      "outputs": [],
      "source": [
        "stardata.replace(\"--\", 1e-5, inplace=True)\n",
        "stardata = stardata.astype(np.double)\n"
      ]
    },
    {
      "cell_type": "code",
      "execution_count": 5,
      "metadata": {},
      "outputs": [
        {
          "name": "stdout",
          "output_type": "stream",
          "text": [
            "<class 'pandas.core.frame.DataFrame'>\n",
            "RangeIndex: 200 entries, 0 to 199\n",
            "Data columns (total 4 columns):\n",
            " #   Column    Non-Null Count  Dtype  \n",
            "---  ------    --------------  -----  \n",
            " 0   ra        200 non-null    float64\n",
            " 1   dec       200 non-null    float64\n",
            " 2   parallax  200 non-null    float64\n",
            " 3   ap_mag    200 non-null    float64\n",
            "dtypes: float64(4)\n",
            "memory usage: 6.4 KB\n"
          ]
        }
      ],
      "source": [
        "stardata.info()\n"
      ]
    },
    {
      "cell_type": "code",
      "execution_count": 6,
      "metadata": {},
      "outputs": [
        {
          "data": {
            "text/plain": [
              "(200, 4)"
            ]
          },
          "execution_count": 6,
          "metadata": {},
          "output_type": "execute_result"
        }
      ],
      "source": [
        "stardata.shape\n"
      ]
    },
    {
      "cell_type": "code",
      "execution_count": 7,
      "metadata": {},
      "outputs": [
        {
          "data": {
            "text/html": [
              "<div>\n",
              "<style scoped>\n",
              "    .dataframe tbody tr th:only-of-type {\n",
              "        vertical-align: middle;\n",
              "    }\n",
              "\n",
              "    .dataframe tbody tr th {\n",
              "        vertical-align: top;\n",
              "    }\n",
              "\n",
              "    .dataframe thead th {\n",
              "        text-align: right;\n",
              "    }\n",
              "</style>\n",
              "<table border=\"1\" class=\"dataframe\">\n",
              "  <thead>\n",
              "    <tr style=\"text-align: right;\">\n",
              "      <th></th>\n",
              "      <th>ra</th>\n",
              "      <th>dec</th>\n",
              "      <th>parallax</th>\n",
              "      <th>ap_mag</th>\n",
              "      <th>ab_mag</th>\n",
              "    </tr>\n",
              "  </thead>\n",
              "  <tbody>\n",
              "    <tr>\n",
              "      <th>0</th>\n",
              "      <td>56.566774</td>\n",
              "      <td>24.189735</td>\n",
              "      <td>7.393535</td>\n",
              "      <td>8.208464</td>\n",
              "      <td>17.552725</td>\n",
              "    </tr>\n",
              "    <tr>\n",
              "      <th>1</th>\n",
              "      <td>56.557355</td>\n",
              "      <td>24.196560</td>\n",
              "      <td>7.545835</td>\n",
              "      <td>7.323018</td>\n",
              "      <td>16.711554</td>\n",
              "    </tr>\n",
              "    <tr>\n",
              "      <th>2</th>\n",
              "      <td>56.613757</td>\n",
              "      <td>24.254807</td>\n",
              "      <td>7.217771</td>\n",
              "      <td>7.339084</td>\n",
              "      <td>16.631100</td>\n",
              "    </tr>\n",
              "    <tr>\n",
              "      <th>3</th>\n",
              "      <td>56.642808</td>\n",
              "      <td>24.138091</td>\n",
              "      <td>3.511365</td>\n",
              "      <td>11.468399</td>\n",
              "      <td>19.195779</td>\n",
              "    </tr>\n",
              "    <tr>\n",
              "      <th>4</th>\n",
              "      <td>56.663986</td>\n",
              "      <td>24.103001</td>\n",
              "      <td>7.418397</td>\n",
              "      <td>9.191837</td>\n",
              "      <td>18.543387</td>\n",
              "    </tr>\n",
              "  </tbody>\n",
              "</table>\n",
              "</div>"
            ],
            "text/plain": [
              "          ra        dec  parallax     ap_mag     ab_mag\n",
              "0  56.566774  24.189735  7.393535   8.208464  17.552725\n",
              "1  56.557355  24.196560  7.545835   7.323018  16.711554\n",
              "2  56.613757  24.254807  7.217771   7.339084  16.631100\n",
              "3  56.642808  24.138091  3.511365  11.468399  19.195779\n",
              "4  56.663986  24.103001  7.418397   9.191837  18.543387"
            ]
          },
          "execution_count": 7,
          "metadata": {},
          "output_type": "execute_result"
        }
      ],
      "source": [
        "stardata[\"ab_mag\"] = 5 + stardata[\"ap_mag\"] - 5 * np.log10(1 / stardata[\"parallax\"])\n",
        "stardata.head()\n"
      ]
    },
    {
      "cell_type": "code",
      "execution_count": 9,
      "metadata": {},
      "outputs": [
        {
          "data": {
            "text/plain": [
              "Text(0.5, 1.0, 'Brightness distribution of stars')"
            ]
          },
          "execution_count": 9,
          "metadata": {},
          "output_type": "execute_result"
        },
        {
          "data": {
            "image/png": "[encoded data removed]",
            "text/plain": [
              "<Figure size 432x288 with 1 Axes>"
            ]
          },
          "metadata": {
            "needs_background": "light"
          },
          "output_type": "display_data"
        }
      ],
      "source": [
        "stardata[\"ab_mag\"].hist(bins=50)\n",
        "plt.xlabel(\"absolute magnitude\")\n",
        "plt.ylabel(\"number of stars\")\n",
        "plt.title(\"Brightness distribution of stars\")\n"
      ]
    },
    {
      "cell_type": "markdown",
      "metadata": {
        "id": "GafdlK2-sinu"
      },
      "source": [
        "A good way to visualize the actual star cluster as it appears to us in the night sky would be to make a scatter plot of declination and RA on the $y$ and $x$ axes respectively. Try plotting the stars such that the star appears bigger if it is brighter. One way to do this is to make the size of dots in scatter plot proportional to (12 - apparent magnitude) of the star.\n",
        "\n",
        "(Hint: Google how to make a scatter plot with variable size of dots.)\n",
        "\n",
        "If you can't make a plot with variable dot sizes, make a simple plot with all dots of same size."
      ]
    },
    {
      "cell_type": "code",
      "execution_count": 11,
      "metadata": {
        "id": "JUu_c0zU6vFF"
      },
      "outputs": [
        {
          "data": {
            "text/plain": [
              "Text(0.5, 1.0, 'Star Cluster Visual')"
            ]
          },
          "execution_count": 11,
          "metadata": {},
          "output_type": "execute_result"
        },
        {
          "data": {
            "image/png": "[encoded data removed]",
            "text/plain": [
              "<Figure size 432x288 with 1 Axes>"
            ]
          },
          "metadata": {
            "needs_background": "light"
          },
          "output_type": "display_data"
        }
      ],
      "source": [
        "# Solution code\n",
        "stardata.plot(x=\"ra\", y=\"dec\", kind=\"scatter\", s=12 - stardata[\"ap_mag\"])\n",
        "plt.xlabel(\"Right Ascension\")\n",
        "plt.ylabel(\"Declination\")\n",
        "plt.title(\"Star Cluster Visual\")\n"
      ]
    },
    {
      "cell_type": "markdown",
      "metadata": {
        "id": "L2gMlFIy7Ucq"
      },
      "source": [
        "# **Question 2 : Estimating Age of Universe using Hubble's Law**\n",
        "\n",
        "In this problem, we will use Hubble's Law on a large number of galaxies, and fit the data to a linear model to find the value of the Hubble Constant, which we will use to calculate the current age of the universe.\n",
        "\n",
        "You can learn more about Hubble's Law, a very important principle of cosmology and expansion of Universe over here - https://simple.m.wikipedia.org/wiki/Hubble%27s_law \n",
        "\n",
        "Step 0: Importing libraries\n",
        "\n",
        "Dump all the required libraries, and define any necessary constants in the code box below.\n",
        "\n",
        "You will require the optimize module of scipy library, so be sure to include a line saying `from scipy.optimize import curve_fit`."
      ]
    },
    {
      "cell_type": "code",
      "execution_count": 91,
      "metadata": {
        "id": "DTpOG9Fr70Nc"
      },
      "outputs": [],
      "source": [
        "# import libraries and define constants\n",
        "from scipy.optimize import curve_fit\n"
      ]
    },
    {
      "cell_type": "markdown",
      "metadata": {
        "id": "b_Fes9_P78i_"
      },
      "source": [
        "Step 2: Loading the data\n",
        "\n",
        "Open the file \"data.txt\" and store it in array(s). First row contains the distance modulus (https://en.m.wikipedia.org/wiki/Distance_modulus) of the galaxy from earth, second row contains the line of sight velocity in km/s.\n",
        "\n",
        "To convert distance modulus to distance in Megaparsecs (the unit we will be using in the rest of the question), use the formula:\n",
        "\n",
        "$d = 10^{\\left(\\frac{d_{dist mod}}{5} - 5\\right)}$\n",
        "\n",
        "where $d$ is in megaparsecs (Mpc)."
      ]
    },
    {
      "cell_type": "code",
      "execution_count": 92,
      "metadata": {
        "id": "itgR16OO8jTb"
      },
      "outputs": [
        {
          "data": {
            "text/html": [
              "<div>\n",
              "<style scoped>\n",
              "    .dataframe tbody tr th:only-of-type {\n",
              "        vertical-align: middle;\n",
              "    }\n",
              "\n",
              "    .dataframe tbody tr th {\n",
              "        vertical-align: top;\n",
              "    }\n",
              "\n",
              "    .dataframe thead th {\n",
              "        text-align: right;\n",
              "    }\n",
              "</style>\n",
              "<table border=\"1\" class=\"dataframe\">\n",
              "  <thead>\n",
              "    <tr style=\"text-align: right;\">\n",
              "      <th></th>\n",
              "      <th>mod0</th>\n",
              "      <th>vgsr</th>\n",
              "    </tr>\n",
              "  </thead>\n",
              "  <tbody>\n",
              "    <tr>\n",
              "      <th>0</th>\n",
              "      <td>36.65</td>\n",
              "      <td>15080</td>\n",
              "    </tr>\n",
              "    <tr>\n",
              "      <th>1</th>\n",
              "      <td>37.29</td>\n",
              "      <td>18221</td>\n",
              "    </tr>\n",
              "    <tr>\n",
              "      <th>2</th>\n",
              "      <td>33.75</td>\n",
              "      <td>3129</td>\n",
              "    </tr>\n",
              "    <tr>\n",
              "      <th>3</th>\n",
              "      <td>32.66</td>\n",
              "      <td>4486</td>\n",
              "    </tr>\n",
              "    <tr>\n",
              "      <th>4</th>\n",
              "      <td>33.37</td>\n",
              "      <td>4564</td>\n",
              "    </tr>\n",
              "  </tbody>\n",
              "</table>\n",
              "</div>"
            ],
            "text/plain": [
              "    mod0   vgsr\n",
              "0  36.65  15080\n",
              "1  37.29  18221\n",
              "2  33.75   3129\n",
              "3  32.66   4486\n",
              "4  33.37   4564"
            ]
          },
          "execution_count": 92,
          "metadata": {},
          "output_type": "execute_result"
        }
      ],
      "source": [
        "# Load data and convert it to useable form\n",
        "data = pd.read_csv(\"data.txt\", sep=\",\")\n",
        "data.head()\n"
      ]
    },
    {
      "cell_type": "code",
      "execution_count": 93,
      "metadata": {},
      "outputs": [
        {
          "data": {
            "text/html": [
              "<div>\n",
              "<style scoped>\n",
              "    .dataframe tbody tr th:only-of-type {\n",
              "        vertical-align: middle;\n",
              "    }\n",
              "\n",
              "    .dataframe tbody tr th {\n",
              "        vertical-align: top;\n",
              "    }\n",
              "\n",
              "    .dataframe thead th {\n",
              "        text-align: right;\n",
              "    }\n",
              "</style>\n",
              "<table border=\"1\" class=\"dataframe\">\n",
              "  <thead>\n",
              "    <tr style=\"text-align: right;\">\n",
              "      <th></th>\n",
              "      <th>mod0</th>\n",
              "      <th>vgsr</th>\n",
              "      <th>d_parsec</th>\n",
              "    </tr>\n",
              "  </thead>\n",
              "  <tbody>\n",
              "    <tr>\n",
              "      <th>0</th>\n",
              "      <td>36.65</td>\n",
              "      <td>15080</td>\n",
              "      <td>213.796209</td>\n",
              "    </tr>\n",
              "    <tr>\n",
              "      <th>1</th>\n",
              "      <td>37.29</td>\n",
              "      <td>18221</td>\n",
              "      <td>287.078058</td>\n",
              "    </tr>\n",
              "    <tr>\n",
              "      <th>2</th>\n",
              "      <td>33.75</td>\n",
              "      <td>3129</td>\n",
              "      <td>56.234133</td>\n",
              "    </tr>\n",
              "    <tr>\n",
              "      <th>3</th>\n",
              "      <td>32.66</td>\n",
              "      <td>4486</td>\n",
              "      <td>34.040819</td>\n",
              "    </tr>\n",
              "    <tr>\n",
              "      <th>4</th>\n",
              "      <td>33.37</td>\n",
              "      <td>4564</td>\n",
              "      <td>47.206304</td>\n",
              "    </tr>\n",
              "  </tbody>\n",
              "</table>\n",
              "</div>"
            ],
            "text/plain": [
              "    mod0   vgsr    d_parsec\n",
              "0  36.65  15080  213.796209\n",
              "1  37.29  18221  287.078058\n",
              "2  33.75   3129   56.234133\n",
              "3  32.66   4486   34.040819\n",
              "4  33.37   4564   47.206304"
            ]
          },
          "execution_count": 93,
          "metadata": {},
          "output_type": "execute_result"
        }
      ],
      "source": [
        "data[\"d_parsec\"] = 10 ** ((data[\"mod0\"] / 5) - 5)\n",
        "data.head()\n"
      ]
    },
    {
      "cell_type": "code",
      "execution_count": 94,
      "metadata": {},
      "outputs": [
        {
          "name": "stdout",
          "output_type": "stream",
          "text": [
            "[[   36.65       15080.           213.79620895]\n",
            " [   37.29       18221.           287.0780582 ]\n",
            " [   33.75        3129.            56.23413252]\n",
            " ...\n",
            " [   36.06       11410.           162.92960326]\n",
            " [   35.96        9105.           155.59656316]\n",
            " [   34.96        7952.            98.1747943 ]]\n"
          ]
        }
      ],
      "source": [
        "data_arr = data.values\n",
        "print(data_arr)\n"
      ]
    },
    {
      "cell_type": "markdown",
      "metadata": {
        "id": "v8n0_bmv8rBu"
      },
      "source": [
        "Step 3: Preliminary Data Visualization\n",
        "\n",
        "Create a function taking the distance to the galaxy, and a slope and an intercept parameter as input, returning recession velocity of that galaxy as output. A code snippet showing how to use curve_fit to find the optimum slope and intercept is shown here - https://github.com/krittikaiitb/tutorials/blob/master/Tutorial_07/SciPy1.ipynb \n",
        "\n",
        "Create a scatter plot of the line of sight velocity of the galaxies (in km/s) vs the distance to the galaxies (in Mpc). Also plot the model you just fit in the same graph."
      ]
    },
    {
      "cell_type": "code",
      "execution_count": 95,
      "metadata": {
        "id": "PYqutdHI8yB6"
      },
      "outputs": [
        {
          "name": "stdout",
          "output_type": "stream",
          "text": [
            "[ 62.98363409 712.12417277]\n"
          ]
        },
        {
          "data": {
            "text/plain": [
              "[<matplotlib.lines.Line2D at 0x2a5e184de40>]"
            ]
          },
          "execution_count": 95,
          "metadata": {},
          "output_type": "execute_result"
        },
        {
          "data": {
            "image/png": "[encoded data removed]",
            "text/plain": [
              "<Figure size 432x288 with 1 Axes>"
            ]
          },
          "metadata": {
            "needs_background": "light"
          },
          "output_type": "display_data"
        }
      ],
      "source": [
        "# Create a best fit model and plot the data\n",
        "\n",
        "\n",
        "def linear_f(x, m, k):\n",
        "    return m * x + k\n",
        "\n",
        "\n",
        "p_opt, p_cov = curve_fit(linear_f, data[\"d_parsec\"], data[\"vgsr\"])\n",
        "print(p_opt)\n",
        "\n",
        "# plt.fi\n",
        "data.plot(x=\"d_parsec\", y=\"vgsr\", kind=\"scatter\")\n",
        "x = np.array([0, 5000])\n",
        "y = linear_f(x, p_opt[0], p_opt[1])\n",
        "plt.plot(x, y, color=\"r\")\n"
      ]
    },
    {
      "cell_type": "markdown",
      "metadata": {
        "id": "osng2Pxi84rx"
      },
      "source": [
        "Step 4: Removing Outliers (OPTIONAL)\n",
        "\n",
        "As you can see, there are many points on the outskirts of the graph, which may affect out calulations of the slope and intercept unduly. Devise a way to remove those outliers to your satisfaction, and replot the remaining data points. There are multiple ways to do this, a few of them could be:\n",
        "\n",
        "1. Removing all points whose distances are 3$\\times$(Standard Deviation of Distance from Earth) away from the Mean Distance of all input galaxies from Earth. (or take any factor other than 3)\n",
        "\n",
        "2. Removing all points which are a certain distance away from the best fit line initially calculated (decide yourself what to set this distance as, could be a factor of the mean distance from the line for all points)."
      ]
    },
    {
      "cell_type": "code",
      "execution_count": 96,
      "metadata": {
        "id": "0-RxWO9g9Lzd"
      },
      "outputs": [
        {
          "data": {
            "text/html": [
              "<div>\n",
              "<style scoped>\n",
              "    .dataframe tbody tr th:only-of-type {\n",
              "        vertical-align: middle;\n",
              "    }\n",
              "\n",
              "    .dataframe tbody tr th {\n",
              "        vertical-align: top;\n",
              "    }\n",
              "\n",
              "    .dataframe thead th {\n",
              "        text-align: right;\n",
              "    }\n",
              "</style>\n",
              "<table border=\"1\" class=\"dataframe\">\n",
              "  <thead>\n",
              "    <tr style=\"text-align: right;\">\n",
              "      <th></th>\n",
              "      <th>mod0</th>\n",
              "      <th>vgsr</th>\n",
              "      <th>d_parsec</th>\n",
              "    </tr>\n",
              "  </thead>\n",
              "  <tbody>\n",
              "    <tr>\n",
              "      <th>0</th>\n",
              "      <td>36.65</td>\n",
              "      <td>15080</td>\n",
              "      <td>213.796209</td>\n",
              "    </tr>\n",
              "    <tr>\n",
              "      <th>1</th>\n",
              "      <td>37.29</td>\n",
              "      <td>18221</td>\n",
              "      <td>287.078058</td>\n",
              "    </tr>\n",
              "    <tr>\n",
              "      <th>2</th>\n",
              "      <td>33.75</td>\n",
              "      <td>3129</td>\n",
              "      <td>56.234133</td>\n",
              "    </tr>\n",
              "    <tr>\n",
              "      <th>3</th>\n",
              "      <td>32.66</td>\n",
              "      <td>4486</td>\n",
              "      <td>34.040819</td>\n",
              "    </tr>\n",
              "    <tr>\n",
              "      <th>4</th>\n",
              "      <td>33.37</td>\n",
              "      <td>4564</td>\n",
              "      <td>47.206304</td>\n",
              "    </tr>\n",
              "  </tbody>\n",
              "</table>\n",
              "</div>"
            ],
            "text/plain": [
              "    mod0   vgsr    d_parsec\n",
              "0  36.65  15080  213.796209\n",
              "1  37.29  18221  287.078058\n",
              "2  33.75   3129   56.234133\n",
              "3  32.66   4486   34.040819\n",
              "4  33.37   4564   47.206304"
            ]
          },
          "execution_count": 96,
          "metadata": {},
          "output_type": "execute_result"
        }
      ],
      "source": [
        "# Remove outliers and replot the improved data\n",
        "sigma = data[\"d_parsec\"].std()\n",
        "mean = data[\"d_parsec\"].mean()\n",
        "data_cleaned = data.query(\"d_parsec> @mean - 3*@sigma and d_parsec<@mean + 3*@sigma\")\n",
        "data_cleaned.head()\n"
      ]
    },
    {
      "cell_type": "markdown",
      "metadata": {
        "id": "y0PXYi3V9QF0"
      },
      "source": [
        "Step 5: Conclusion\n",
        "\n",
        "The slope of the graph (with recessional velocity in the y-axis and distance of the galaxy in the x-axis) gives us the Hubble Constant $H_0$ (in units km/s-Mpc). The reciprocal of the Hubble Constant is a good approximation for the age of the universe. Hence, find the age of the universe using your calculations."
      ]
    },
    {
      "cell_type": "code",
      "execution_count": 99,
      "metadata": {
        "id": "2u9oHjvS9gZf"
      },
      "outputs": [
        {
          "name": "stdout",
          "output_type": "stream",
          "text": [
            "age of universe is  1.230406e+10  years\n"
          ]
        }
      ],
      "source": [
        "# Solution code\n",
        "t_opt, t_cov = curve_fit(linear_f, data_cleaned[\"d_parsec\"], data_cleaned[\"vgsr\"])\n",
        "\n",
        "age_of_universe = 1 / t_opt[0] * 3.08567758149137e19 / 31536000\n",
        "print(\"age of universe is \", \"{:e}\".format(age_of_universe), \" years\")\n"
      ]
    }
  ],
  "metadata": {
    "colab": {
      "authorship_tag": "ABX9TyNaK6XDBQKfATua5LP6gr1x",
      "collapsed_sections": [],
      "name": "CAB_Problem_Statement.ipynb",
      "provenance": []
    },
    "kernelspec": {
      "display_name": "Python 3.10.2 64-bit",
      "language": "python",
      "name": "python3"
    },
    "language_info": {
      "codemirror_mode": {
        "name": "ipython",
        "version": 3
      },
      "file_extension": ".py",
      "mimetype": "text/x-python",
      "name": "python",
      "nbconvert_exporter": "python",
      "pygments_lexer": "ipython3",
      "version": "3.10.2"
    },
    "vscode": {
      "interpreter": {
        "hash": "8c3d4d9970fc5c09c50d9318a9c7fbf4d0159e4b28833276f5678ee22bded273"
      }
    }
  },
  "nbformat": 4,
  "nbformat_minor": 0
}
